{
 "cells": [
  {
   "cell_type": "markdown",
   "metadata": {},
   "source": [
    "# Navigation\n",
    "\n",
    "---\n",
    "\n",
    "You are welcome to use this coding environment to train your agent for the project.  Follow the instructions below to get started!\n",
    "\n",
    "### 1. Start the Environment\n",
    "\n",
    "Run the next code cell to install a few packages.  This line will take a few minutes to run!"
   ]
  },
  {
   "cell_type": "code",
   "execution_count": 1,
   "metadata": {},
   "outputs": [
    {
     "name": "stdout",
     "output_type": "stream",
     "text": [
      "\u001b[31mtensorflow 1.7.1 has requirement numpy>=1.13.3, but you'll have numpy 1.12.1 which is incompatible.\u001b[0m\r\n",
      "\u001b[31mipython 6.5.0 has requirement prompt-toolkit<2.0.0,>=1.0.15, but you'll have prompt-toolkit 3.0.19 which is incompatible.\u001b[0m\r\n"
     ]
    }
   ],
   "source": [
    "!pip -q install ./python"
   ]
  },
  {
   "cell_type": "markdown",
   "metadata": {},
   "source": [
    "The environment is already saved in the Workspace and can be accessed at the file path provided below.  Please run the next code cell without making any changes."
   ]
  },
  {
   "cell_type": "code",
   "execution_count": 9,
   "metadata": {},
   "outputs": [
    {
     "name": "stderr",
     "output_type": "stream",
     "text": [
      "INFO:unityagents:\n",
      "'Academy' started successfully!\n",
      "Unity Academy name: Academy\n",
      "        Number of Brains: 1\n",
      "        Number of External Brains : 1\n",
      "        Lesson number : 0\n",
      "        Reset Parameters :\n",
      "\t\t\n",
      "Unity brain name: BananaBrain\n",
      "        Number of Visual Observations (per agent): 0\n",
      "        Vector Observation space type: continuous\n",
      "        Vector Observation space size (per agent): 37\n",
      "        Number of stacked Vector Observation: 1\n",
      "        Vector Action space type: discrete\n",
      "        Vector Action space size (per agent): 4\n",
      "        Vector Action descriptions: , , , \n"
     ]
    }
   ],
   "source": [
    "from unityagents import UnityEnvironment\n",
    "import numpy as np\n",
    "\n",
    "# please do not modify the line below\n",
    "env = UnityEnvironment(file_name=\"/data/Banana_Linux_NoVis/Banana.x86_64\")"
   ]
  },
  {
   "cell_type": "markdown",
   "metadata": {},
   "source": [
    "Environments contain **_brains_** which are responsible for deciding the actions of their associated agents. Here we check for the first brain available, and set it as the default brain we will be controlling from Python."
   ]
  },
  {
   "cell_type": "code",
   "execution_count": 10,
   "metadata": {},
   "outputs": [],
   "source": [
    "# get the default brain\n",
    "brain_name = env.brain_names[0]\n",
    "brain      = env.brains[brain_name]"
   ]
  },
  {
   "cell_type": "markdown",
   "metadata": {},
   "source": [
    "### 2. Examine the State and Action Spaces\n",
    "\n",
    "Run the code cell below to print some information about the environment."
   ]
  },
  {
   "cell_type": "code",
   "execution_count": 11,
   "metadata": {},
   "outputs": [
    {
     "name": "stdout",
     "output_type": "stream",
     "text": [
      "Number of agents: 1\n",
      "Number of actions: 4\n",
      "States look like: [ 1.          0.          0.          0.          0.84408134  0.          0.\n",
      "  1.          0.          0.0748472   0.          1.          0.          0.\n",
      "  0.25755     1.          0.          0.          0.          0.74177343\n",
      "  0.          1.          0.          0.          0.25854847  0.          0.\n",
      "  1.          0.          0.09355672  0.          1.          0.          0.\n",
      "  0.31969345  0.          0.        ]\n",
      "States have length: 37\n"
     ]
    }
   ],
   "source": [
    "# reset the environment\n",
    "env_info = env.reset(train_mode=True)[brain_name]\n",
    "\n",
    "# number of agents in the environment\n",
    "print('Number of agents:', len(env_info.agents))\n",
    "\n",
    "# number of actions\n",
    "action_size = brain.vector_action_space_size\n",
    "print('Number of actions:', action_size)\n",
    "\n",
    "# examine the state space \n",
    "state = env_info.vector_observations[0]\n",
    "print('States look like:', state)\n",
    "state_size = len(state)\n",
    "print('States have length:', state_size)"
   ]
  },
  {
   "cell_type": "markdown",
   "metadata": {},
   "source": [
    "### 3. Take Random Actions in the Environment\n",
    "\n",
    "In the next code cell, you will learn how to use the Python API to control the agent and receive feedback from the environment.\n",
    "\n",
    "Note that **in this coding environment, you will not be able to watch the agent while it is training**, and you should set `train_mode=True` to restart the environment."
   ]
  },
  {
   "cell_type": "code",
   "execution_count": 12,
   "metadata": {},
   "outputs": [
    {
     "name": "stdout",
     "output_type": "stream",
     "text": [
      "Score: 0.0\n"
     ]
    }
   ],
   "source": [
    "env_info = env.reset(train_mode=True)[brain_name] # reset the environment\n",
    "state = env_info.vector_observations[0]            # get the current state\n",
    "score = 0                                          # initialize the score\n",
    "while True:\n",
    "    action     = np.random.randint(action_size)        # select an action\n",
    "    env_info   = env.step(action)[brain_name]        # send the action to the environment\n",
    "    next_state = env_info.vector_observations[0]   # get the next state\n",
    "    reward = env_info.rewards[0]                   # get the reward\n",
    "    done   = env_info.local_done[0]                  # see if episode has finished\n",
    "    score += reward                                # update the score\n",
    "    state  = next_state                             # roll over the state to next time step\n",
    "    if done:                                       # exit loop if episode finished\n",
    "        break\n",
    "    \n",
    "print(\"Score: {}\".format(score))"
   ]
  },
  {
   "cell_type": "markdown",
   "metadata": {},
   "source": [
    "When finished, you can close the environment."
   ]
  },
  {
   "cell_type": "code",
   "execution_count": 23,
   "metadata": {},
   "outputs": [],
   "source": [
    "env.close()"
   ]
  },
  {
   "cell_type": "markdown",
   "metadata": {},
   "source": [
    "### 4. It's Your Turn!\n",
    "\n",
    "Now it's your turn to train your own agent to solve the environment!  A few **important notes**:\n",
    "- When training the environment, set `train_mode=True`, so that the line for resetting the environment looks like the following:\n",
    "```python\n",
    "env_info = env.reset(train_mode=True)[brain_name]\n",
    "```\n",
    "- To structure your work, you're welcome to work directly in this Jupyter notebook, or you might like to start over with a new file!  You can see the list of files in the workspace by clicking on **_Jupyter_** in the top left corner of the notebook.\n",
    "- In this coding environment, you will not be able to watch the agent while it is training.  However, **_after training the agent_**, you can download the saved model weights to watch the agent on your own machine! "
   ]
  },
  {
   "cell_type": "code",
   "execution_count": 1,
   "metadata": {},
   "outputs": [
    {
     "data": {
      "text/plain": [
       "'\\nNote to the reviewer 18-Jun-21\\nThis project used a double deep-Q network modifying the code provided in the lessons.\\nAlterations to the code were in the double_dqn, the agent, and the class as per the files\\nsubmitted.  I used Batch Normaliztion to accelerates learning on layers one and two, altered \\nthe fcx_unit sizes which did very little to improve performance so I stuck with 64 as the size for\\nfc1 and fc2.\\n\\nThe final saved trained model used a three layer neural network where the batchsize was 32.\\nHyper-parameters: \\n   (1) LR-learning-rate:        LR          = 5e-55 \\n   (2) Espsilon-Decay:          eps_decay   = 0.9645\\n   (3) Gamma:                   GAMMA       = 0.95\\n   (4) Batch size:              BATCH_SIZE  = 32\\nAgent Parameters:\\n   (1) state size:              state_size  = 37\\n   (2) Env actions:             action_size = 4\\n   (3) Seed:                    seed        = 42            \\nscores      = 0   \\nThese parameters realized the best results.Note: Dropping Gamma to around0.95 helped realize the results\\nfaster, but not as much as adjusting Espsilon-Decay, i.e., slowing it and LR, i.e., speeding it up.\\n\\nWithin this notebook you will also see runs using a four layer neural net altering the \\nhyper-parameters. Results were roughly the same so I chose the final three layer model as described above resulting in.\\n\\nThank you.\\nKim\\n\\n'"
      ]
     },
     "execution_count": 1,
     "metadata": {},
     "output_type": "execute_result"
    }
   ],
   "source": [
    "'''\n",
    "Note to the reviewer 23-Jun-21\n",
    "\n",
    "This project used a double deep-Q network modifying the code provided in the lessons.\n",
    "Alterations to the code were in the double_dqn, the agent, and the class as per the files\n",
    "submitted.  I used Batch Normaliztion to accelerates learning on layers one and two, altered \n",
    "the fcx_unit sizes which did very little to improve performance so I stuck with 64 as the size for\n",
    "fc1 and fc2.  The execution was run in 'CPU' mode.\n",
    "\n",
    "The final saved trained model used a three layer neural network where the batchsize was 32.\n",
    "Hyper-parameters: \n",
    "   (1) LR-learning-rate:        LR          = 5e-55 \n",
    "   (2) Espsilon-Decay:          eps_decay   = 0.9645\n",
    "   (3) Gamma:                   GAMMA       = 0.95\n",
    "   (4) Batch size:              BATCH_SIZE  = 32\n",
    "Agent Parameters:\n",
    "   (1) state size:              state_size  = 37\n",
    "   (2) Env actions:             action_size = 4\n",
    "   (3) Seed:                    seed        = 42            \n",
    "scores      = 0   \n",
    "\n",
    "These parameters realized the best results.Note: Dropping Gamma to around 0.95 helped realize the results\n",
    "faster, but not as much as adjusting Espsilon-Decay, i.e., slowing it and LR, i.e., speeding it up.\n",
    "\n",
    "Within this notebook you will also see runs using a four layer neural net altering the \n",
    "hyper-parameters. Results were roughly the same so I chose the final three layer model as described above resulting in\n",
    "the following output:\n",
    "\n",
    "   BATCH_SIZE 32\n",
    "   Episode 100\tAverage Score: 2.33\n",
    "   Episode 200\tAverage Score: 7.11\n",
    "   Episode 300\tAverage Score: 9.86\n",
    "   Episode 393\tAverage Score: 13.07\n",
    "   Environment solved in 293 episodes!\tAverage Score: 13.07\n",
    "\n",
    "Thank you.\n",
    "Kim\n",
    "\n",
    "'''"
   ]
  },
  {
   "cell_type": "code",
   "execution_count": 2,
   "metadata": {},
   "outputs": [
    {
     "name": "stdout",
     "output_type": "stream",
     "text": [
      "Collecting pyvirtualdisplay\n",
      "  Downloading https://files.pythonhosted.org/packages/79/30/e99e0c480a858410757e7516958e149285ea08ed6c9cfe201ed0aa12cee2/PyVirtualDisplay-2.2-py3-none-any.whl\n",
      "Collecting EasyProcess (from pyvirtualdisplay)\n",
      "  Downloading https://files.pythonhosted.org/packages/48/3c/75573613641c90c6d094059ac28adb748560d99bd27ee6f80cce398f404e/EasyProcess-0.3-py2.py3-none-any.whl\n",
      "Installing collected packages: EasyProcess, pyvirtualdisplay\n",
      "Successfully installed EasyProcess-0.3 pyvirtualdisplay-2.2\n"
     ]
    }
   ],
   "source": [
    "#\n",
    "#. Import the Necessary Packages\n",
    "#\n",
    "#\n",
    "import random\n",
    "import torch\n",
    "import numpy as np\n",
    "from collections import deque\n",
    "import matplotlib.pyplot as plt\n",
    "%matplotlib inline\n",
    "\n",
    "!python -m pip install pyvirtualdisplay\n",
    "from pyvirtualdisplay import Display\n",
    "display = Display(visible=0, size=(1400, 900))\n",
    "display.start()\n",
    "\n",
    "is_ipython = 'inline' in plt.get_backend()\n",
    "if is_ipython:\n",
    "    from IPython import display\n",
    "\n",
    "plt.ion()"
   ]
  },
  {
   "cell_type": "code",
   "execution_count": 5,
   "metadata": {},
   "outputs": [
    {
     "name": "stdout",
     "output_type": "stream",
     "text": [
      "0.4.0\n"
     ]
    }
   ],
   "source": [
    "print(torch.__version__)"
   ]
  },
  {
   "cell_type": "code",
   "execution_count": 7,
   "metadata": {},
   "outputs": [
    {
     "name": "stdout",
     "output_type": "stream",
     "text": [
      "Number of agents: 1\n",
      "Number of actions: 4\n",
      "States look like: [ 0.          0.          1.          0.          0.16101955  1.          0.\n",
      "  0.          0.          0.04571758  1.          0.          0.          0.\n",
      "  0.2937662   0.          0.          1.          0.          0.14386636\n",
      "  0.          0.          1.          0.          0.16776823  1.          0.\n",
      "  0.          0.          0.04420976  1.          0.          0.          0.\n",
      "  0.05423063  0.          0.        ]\n",
      "States have length: 37\n"
     ]
    }
   ],
   "source": [
    "#\n",
    "#  Re the Environment and Agent\n",
    "#\n",
    "env_info = env.reset(train_mode=True)[brain_name]\n",
    "\n",
    "# number of agents in the environment\n",
    "print('Number of agents:', len(env_info.agents))\n",
    "\n",
    "# number of actions\n",
    "action_size = brain.vector_action_space_size\n",
    "print('Number of actions:', action_size)\n",
    "\n",
    "# examine the state space \n",
    "state = env_info.vector_observations[0]\n",
    "print('States look like:', state)\n",
    "state_size = len(state)\n",
    "print('States have length:', state_size)"
   ]
  },
  {
   "cell_type": "code",
   "execution_count": 14,
   "metadata": {},
   "outputs": [
    {
     "name": "stdout",
     "output_type": "stream",
     "text": [
      "/home/workspace\n",
      "/home/workspace/dqn_agent_prj1.py\n",
      "/home/workspace/model_prj1.py\n",
      "/home/workspace/python\n",
      "/home/workspace/__pycache__\n",
      "/home/workspace/unity-environment.log\n",
      "/home/workspace/checkpoint.pth\n",
      "/home/workspace/.ipynb_checkpoints\n",
      "/home/workspace/Navigation.ipynb\n"
     ]
    },
    {
     "data": {
      "text/plain": [
       "'/home/workspace/trained_model.pt'"
      ]
     },
     "execution_count": 14,
     "metadata": {},
     "output_type": "execute_result"
    }
   ],
   "source": [
    "#\n",
    "#  Establish path to files\n",
    "#\n",
    "import os\n",
    "dir = os.getcwd()\n",
    "print(dir)\n",
    "\n",
    "from pathlib import Path  #/home/workspace/ etc\n",
    "print(*Path(dir).iterdir(), sep=\"\\n\") # print files in the directory\n",
    "#\n",
    "# set the trained file name\n",
    "#\n",
    "file_name = dir + '/trained_model.pt'\n",
    "file_name"
   ]
  },
  {
   "cell_type": "code",
   "execution_count": 15,
   "metadata": {},
   "outputs": [],
   "source": [
    "def get_ns_rewrd_done(env_info):\n",
    "    next_state = env_info.vector_observations[0]   # get the next state\n",
    "    reward     = env_info.rewards[0]               # get the reward\n",
    "    done       =  env_info.local_done[0]           # get done-status\n",
    "    return next_state, reward, done\n"
   ]
  },
  {
   "cell_type": "code",
   "execution_count": 16,
   "metadata": {},
   "outputs": [
    {
     "name": "stdout",
     "output_type": "stream",
     "text": [
      "[ 1.          0.          0.          0.          0.43962687  1.          0.\n",
      "  0.          0.          0.19398789  1.          0.          0.          0.\n",
      "  0.48112735  0.          0.          1.          0.          0.52109712\n",
      "  0.          0.          1.          0.          0.38285938  1.          0.\n",
      "  0.          0.          0.10405888  1.          0.          0.          0.\n",
      "  0.37148571  0.          0.        ] 37\n"
     ]
    }
   ],
   "source": [
    "#nxt,rr,dd = get_ns_rewrd_done(env_info)\n",
    "nxt,_,_ = get_ns_rewrd_done(env_info)\n",
    "print(nxt,len(nxt))\n",
    "#print(rr)\n",
    "#print(dd)"
   ]
  },
  {
   "cell_type": "code",
   "execution_count": 17,
   "metadata": {},
   "outputs": [],
   "source": [
    "from dqn_agent_prj1 import Agent\n",
    "agent = Agent(state_size=37, action_size=4, seed=42)"
   ]
  },
  {
   "cell_type": "code",
   "execution_count": 18,
   "metadata": {},
   "outputs": [],
   "source": [
    "def double_dqn(n_episodes=2000, max_t=1000, eps_start=1.0, eps_end=0.01, eps_decay=0.995):\n",
    "    \"\"\"Deep Q-Learning.\n",
    "    \n",
    "    Params\n",
    "    ======\n",
    "        n_episodes (int): maximum number of training episodes\n",
    "        max_t (int): maximum number of timesteps per episode\n",
    "        eps_start (float): starting value of epsilon, for epsilon-greedy action selection\n",
    "        eps_end (float): minimum value of epsilon\n",
    "        eps_decay (float): multiplicative factor (per episode) for decreasing epsilon\n",
    "    \"\"\"\n",
    "    scores        = []                        # list containing scores from each episode\n",
    "    scores_window = deque(maxlen=100)  # last 100 scores\n",
    "    eps           = eps_start                    # initialize epsilon\n",
    "    \n",
    "    for i_episode in range(1, n_episodes+1):\n",
    "        #state = env.reset()\n",
    "        env_info  = env.reset(train_mode=True)[brain_name] # reset the environment\n",
    "        state,_,_ = get_ns_rewrd_done(env_info)            # get the current state\n",
    "        score     = 0\n",
    "        \n",
    "        for t in range(max_t):\n",
    "            action   = agent.act(state, eps)         # Get action(s) for current state\n",
    "            env_info = env.step(action)[brain_name]  # Take action w/in the environment at current state\n",
    "            next_state, reward, done = get_ns_rewrd_done(env_info) # get next state & rewards\n",
    "            \n",
    "            agent.step(state, action, reward, next_state, done)\n",
    "            state = next_state\n",
    "            score += reward\n",
    "            if done:\n",
    "                break \n",
    "        scores_window.append(score)       # save most recent score\n",
    "        scores.append(score)              # save most recent score\n",
    "        eps = max(eps_end, eps_decay*eps) # decrease epsilon\n",
    "        print('\\rEpisode {}\\tAverage Score: {:.2f}'.format(i_episode, np.mean(scores_window)), end=\"\")\n",
    "        if i_episode % 100 == 0:\n",
    "            print('\\rEpisode {}\\tAverage Score: {:.2f}'.format(i_episode, np.mean(scores_window)))\n",
    "        if np.mean(scores_window)>13.0:\n",
    "            print('\\nEnvironment solved in {:d} episodes!\\tAverage Score: {:.2f}'.format(i_episode-100, np.mean(scores_window)))\n",
    "            #torch.save(agent.qnetwork_local.state_dict(), 'checkpoint.pth')\n",
    "            torch.save(agent.qnetwork_local.state_dict(), file_name)\n",
    "            break\n",
    "    return scores\n"
   ]
  },
  {
   "cell_type": "code",
   "execution_count": 4,
   "metadata": {},
   "outputs": [],
   "source": [
    "#\n",
    "#  Set directory for saving model\n",
    "#"
   ]
  },
  {
   "cell_type": "code",
   "execution_count": 11,
   "metadata": {},
   "outputs": [
    {
     "name": "stdout",
     "output_type": "stream",
     "text": [
      "Episode 100\tAverage Score: 2.57\n",
      "Episode 200\tAverage Score: 7.95\n",
      "Episode 300\tAverage Score: 11.82\n",
      "Episode 400\tAverage Score: 14.28\n",
      "Episode 500\tAverage Score: 16.38\n"
     ]
    },
    {
     "data": {
      "image/png": "[encoded data removed]",
      "text/plain": [
       "<matplotlib.figure.Figure at 0x7f461ba03c88>"
      ]
     },
     "metadata": {
      "needs_background": "light"
     },
     "output_type": "display_data"
    }
   ],
   "source": [
    "#***KEEP***\n",
    "# New 4-layer model 10-Jun-2021 \n",
    "#\n",
    "BATCH_SIZE  = 64\n",
    "LR          = 5e-55 \n",
    "GAMMA       = 0.95\n",
    "agent       = Agent(state_size=37, action_size=4, seed=42)\n",
    "scores      = 0\n",
    "scores = dqn(n_episodes=500, max_t=1000, eps_start=1.0, eps_end=0.01, eps_decay=0.9865)\n",
    "fig = plt.figure()\n",
    "ax = fig.add_subplot(111)\n",
    "plt.plot(np.arange(len(scores)), scores)\n",
    "plt.ylabel('Score')\n",
    "plt.xlabel('Episode #')\n",
    "plt.show()"
   ]
  },
  {
   "cell_type": "code",
   "execution_count": 21,
   "metadata": {},
   "outputs": [
    {
     "name": "stdout",
     "output_type": "stream",
     "text": [
      "Episode 100\tAverage Score: 2.55\n",
      "Episode 200\tAverage Score: 8.72\n",
      "Episode 300\tAverage Score: 11.83\n",
      "Episode 400\tAverage Score: 15.03\n",
      "Episode 500\tAverage Score: 16.55\n"
     ]
    },
    {
     "data": {
      "image/png": "[encoded data removed]",
      "text/plain": [
       "<matplotlib.figure.Figure at 0x7f46162bd208>"
      ]
     },
     "metadata": {
      "needs_background": "light"
     },
     "output_type": "display_data"
    }
   ],
   "source": [
    "#***KEEP\n",
    "# New 4-layer model 10-Jun-2021 3:10pm\n",
    "#\n",
    "#  esp decay =0.9845;  GAMMA 0.05; batchsize =32\n",
    "#\n",
    "BATCH_SIZE  = 32\n",
    "LR          = 5e-55 \n",
    "GAMMA       = 0.95\n",
    "agent       = Agent(state_size=37, action_size=4, seed=42)\n",
    "scores      = 0\n",
    "scores = dqn(n_episodes=500, max_t=1000, eps_start=1.0, eps_end=0.01, eps_decay=0.9845)\n",
    "fig = plt.figure()\n",
    "ax = fig.add_subplot(111)\n",
    "plt.plot(np.arange(len(scores)), scores)\n",
    "plt.ylabel('Score')\n",
    "plt.xlabel('Episode #')\n",
    "plt.show()"
   ]
  },
  {
   "cell_type": "code",
   "execution_count": 22,
   "metadata": {},
   "outputs": [
    {
     "name": "stdout",
     "output_type": "stream",
     "text": [
      "BATCH_SIZE 32\n",
      "Episode 100\tAverage Score: 2.33\n",
      "Episode 200\tAverage Score: 7.11\n",
      "Episode 300\tAverage Score: 9.86\n",
      "Episode 393\tAverage Score: 13.07\n",
      "Environment solved in 293 episodes!\tAverage Score: 13.07\n"
     ]
    },
    {
     "data": {
      "image/png": "[encoded data removed]",
      "text/plain": [
       "<matplotlib.figure.Figure at 0x7f843c11fa20>"
      ]
     },
     "metadata": {
      "needs_background": "light"
     },
     "output_type": "display_data"
    }
   ],
   "source": [
    "#***BEST RUN ***\n",
    "# 13-Jun-2021 3-layer model 9:20 AM\n",
    "#\n",
    "#  esp decay =0.9645;  GAMMA 0.95; batchsize =32\n",
    "#\n",
    "BATCH_SIZE  = 32\n",
    "LR          = 5e-55 \n",
    "GAMMA       = 0.95\n",
    "agent       = Agent(state_size=37, action_size=4, seed=42)\n",
    "scores      = 0\n",
    "print('BATCH_SIZE',BATCH_SIZE )\n",
    "scores = double_dqn(n_episodes=700, max_t=1000, eps_start=1.0, eps_end=0.01, eps_decay=0.9645)\n",
    "fig = plt.figure()\n",
    "ax = fig.add_subplot(111)\n",
    "plt.plot(np.arange(len(scores)), scores)\n",
    "plt.ylabel('Score')\n",
    "plt.xlabel('Episode #')\n",
    "plt.show()"
   ]
  },
  {
   "cell_type": "code",
   "execution_count": 13,
   "metadata": {},
   "outputs": [
    {
     "name": "stdout",
     "output_type": "stream",
     "text": [
      "BATCH_SIZE 64\n",
      "Episode 100\tAverage Score: 0.38\n",
      "Episode 200\tAverage Score: 5.22\n",
      "Episode 300\tAverage Score: 9.63\n",
      "Episode 400\tAverage Score: 12.16\n",
      "Episode 474\tAverage Score: 13.03\n",
      "Environment solved in 374 episodes!\tAverage Score: 13.03\n"
     ]
    },
    {
     "data": {
      "image/png": "[encoded data removed]",
      "text/plain": [
       "<matplotlib.figure.Figure at 0x7f386a2f2748>"
      ]
     },
     "metadata": {
      "needs_background": "light"
     },
     "output_type": "display_data"
    }
   ],
   "source": [
    "#\n",
    "# 13-Jun-2021 3-layer model 9:20 AM\n",
    "#\n",
    "#  esp decay =0.9845;  GAMMA 0.05; batchsize =32\n",
    "#\n",
    "#\n",
    "BATCH_SIZE  = 64\n",
    "LR          = 5e-55 \n",
    "GAMMA       = 0.95\n",
    "agent       = Agent(state_size=37, action_size=4, seed=42)\n",
    "scores      = 0\n",
    "print('BATCH_SIZE',BATCH_SIZE )\n",
    "scores = double_dqn(n_episodes=700, max_t=1000, eps_start=1.0, eps_end=0.01, eps_decay=0.9645)\n",
    "fig = plt.figure()\n",
    "ax = fig.add_subplot(111)\n",
    "plt.plot(np.arange(len(scores)), scores)\n",
    "plt.ylabel('Score')\n",
    "plt.xlabel('Episode #')\n",
    "plt.show()"
   ]
  },
  {
   "cell_type": "code",
   "execution_count": 25,
   "metadata": {},
   "outputs": [],
   "source": [
    "env.close()"
   ]
  },
  {
   "cell_type": "code",
   "execution_count": 24,
   "metadata": {},
   "outputs": [
    {
     "name": "stdout",
     "output_type": "stream",
     "text": [
      "/home/workspace/dqn_agent_prj1.py\n",
      "/home/workspace/model_prj1.py\n",
      "/home/workspace/python\n",
      "/home/workspace/__pycache__\n",
      "/home/workspace/unity-environment.log\n",
      "/home/workspace/checkpoint.pth\n",
      "/home/workspace/.ipynb_checkpoints\n",
      "/home/workspace/Navigation.ipynb\n",
      "/home/workspace/trained_model.pt\n"
     ]
    }
   ],
   "source": [
    "#\n",
    "# check that model is saved \n",
    "#\n",
    "print(*Path(dir).iterdir(), sep=\"\\n\")#\"/home/workspace/dog_project/images/\""
   ]
  },
  {
   "cell_type": "code",
   "execution_count": 3,
   "metadata": {},
   "outputs": [
    {
     "data": {
      "text/plain": [
       "'\\nTo improve performance I would change the architecture back to a 4-layer neural network and apply\\nBatch Normaliztion to accelerates learning on just two layers one and three; see the tow example\\nresults using a four-layer network. I would  altered the fc3_unit size to 32 versus 64 and \\nreapply these same hyperparameters: \\n   BATCH_SIZE  = 32 # \\n   LR          = 5e-65  # Speed up learning a little more \\n   GAMMA       = 0.95\\n   agent       = Agent(state_size=37, action_size=4, seed=42)\\nI would also try the memory prioritization algotithm to determine if there is an increase in goal\\nattainment.\\n'"
      ]
     },
     "execution_count": 3,
     "metadata": {},
     "output_type": "execute_result"
    }
   ],
   "source": [
    "#\n",
    "#    Improving Performance\n",
    "#\n",
    "'''\n",
    "To improve performance I would change the architecture back to a 4-layer neural network and apply\n",
    "Batch Normaliztion to accelerates learning on just two layers one and three; see the tow example\n",
    "results using a four-layer network. I would  altered the fc3_unit size to 32 versus 64 and \n",
    "reapply these same hyperparameters: \n",
    "   BATCH_SIZE  = 32 # \n",
    "   LR          = 5e-65  # Speed up learning a little more \n",
    "   GAMMA       = 0.95\n",
    "   agent       = Agent(state_size=37, action_size=4, seed=42)\n",
    "I would also try the memory prioritization algotithm to determine if there is an increase in goal\n",
    "attainment.\n",
    "'''"
   ]
  },
  {
   "cell_type": "code",
   "execution_count": null,
   "metadata": {},
   "outputs": [],
   "source": []
  }
 ],
 "metadata": {
  "kernelspec": {
   "display_name": "Python 3",
   "language": "python",
   "name": "python3"
  },
  "language_info": {
   "codemirror_mode": {
    "name": "ipython",
    "version": 3
   },
   "file_extension": ".py",
   "mimetype": "text/x-python",
   "name": "python",
   "nbconvert_exporter": "python",
   "pygments_lexer": "ipython3",
   "version": "3.6.3"
  }
 },
 "nbformat": 4,
 "nbformat_minor": 2
}
